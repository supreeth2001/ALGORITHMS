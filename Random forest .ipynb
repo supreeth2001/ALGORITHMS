{
 "cells": [
  {
   "cell_type": "markdown",
   "id": "17227b81",
   "metadata": {},
   "source": [
    "# random forest"
   ]
  },
  {
   "cell_type": "code",
   "execution_count": 1,
   "id": "7a681c62",
   "metadata": {},
   "outputs": [],
   "source": [
    "import numpy as np\n",
    "import pandas as pd \n",
    "import matplotlib.pyplot as plt\n",
    "import seaborn as sns"
   ]
  },
  {
   "cell_type": "code",
   "execution_count": 2,
   "id": "038f378d",
   "metadata": {},
   "outputs": [
    {
     "data": {
      "text/html": [
       "<div>\n",
       "<style scoped>\n",
       "    .dataframe tbody tr th:only-of-type {\n",
       "        vertical-align: middle;\n",
       "    }\n",
       "\n",
       "    .dataframe tbody tr th {\n",
       "        vertical-align: top;\n",
       "    }\n",
       "\n",
       "    .dataframe thead th {\n",
       "        text-align: right;\n",
       "    }\n",
       "</style>\n",
       "<table border=\"1\" class=\"dataframe\">\n",
       "  <thead>\n",
       "    <tr style=\"text-align: right;\">\n",
       "      <th></th>\n",
       "      <th>species</th>\n",
       "      <th>island</th>\n",
       "      <th>culmen_length_mm</th>\n",
       "      <th>culmen_depth_mm</th>\n",
       "      <th>flipper_length_mm</th>\n",
       "      <th>body_mass_g</th>\n",
       "      <th>sex</th>\n",
       "    </tr>\n",
       "  </thead>\n",
       "  <tbody>\n",
       "    <tr>\n",
       "      <th>0</th>\n",
       "      <td>Adelie</td>\n",
       "      <td>Torgersen</td>\n",
       "      <td>39.1</td>\n",
       "      <td>18.7</td>\n",
       "      <td>181.0</td>\n",
       "      <td>3750.0</td>\n",
       "      <td>MALE</td>\n",
       "    </tr>\n",
       "    <tr>\n",
       "      <th>1</th>\n",
       "      <td>Adelie</td>\n",
       "      <td>Torgersen</td>\n",
       "      <td>39.5</td>\n",
       "      <td>17.4</td>\n",
       "      <td>186.0</td>\n",
       "      <td>3800.0</td>\n",
       "      <td>FEMALE</td>\n",
       "    </tr>\n",
       "    <tr>\n",
       "      <th>2</th>\n",
       "      <td>Adelie</td>\n",
       "      <td>Torgersen</td>\n",
       "      <td>40.3</td>\n",
       "      <td>18.0</td>\n",
       "      <td>195.0</td>\n",
       "      <td>3250.0</td>\n",
       "      <td>FEMALE</td>\n",
       "    </tr>\n",
       "    <tr>\n",
       "      <th>3</th>\n",
       "      <td>Adelie</td>\n",
       "      <td>Torgersen</td>\n",
       "      <td>NaN</td>\n",
       "      <td>NaN</td>\n",
       "      <td>NaN</td>\n",
       "      <td>NaN</td>\n",
       "      <td>NaN</td>\n",
       "    </tr>\n",
       "    <tr>\n",
       "      <th>4</th>\n",
       "      <td>Adelie</td>\n",
       "      <td>Torgersen</td>\n",
       "      <td>36.7</td>\n",
       "      <td>19.3</td>\n",
       "      <td>193.0</td>\n",
       "      <td>3450.0</td>\n",
       "      <td>FEMALE</td>\n",
       "    </tr>\n",
       "  </tbody>\n",
       "</table>\n",
       "</div>"
      ],
      "text/plain": [
       "  species     island  culmen_length_mm  culmen_depth_mm  flipper_length_mm  \\\n",
       "0  Adelie  Torgersen              39.1             18.7              181.0   \n",
       "1  Adelie  Torgersen              39.5             17.4              186.0   \n",
       "2  Adelie  Torgersen              40.3             18.0              195.0   \n",
       "3  Adelie  Torgersen               NaN              NaN                NaN   \n",
       "4  Adelie  Torgersen              36.7             19.3              193.0   \n",
       "\n",
       "   body_mass_g     sex  \n",
       "0       3750.0    MALE  \n",
       "1       3800.0  FEMALE  \n",
       "2       3250.0  FEMALE  \n",
       "3          NaN     NaN  \n",
       "4       3450.0  FEMALE  "
      ]
     },
     "execution_count": 2,
     "metadata": {},
     "output_type": "execute_result"
    }
   ],
   "source": [
    "df = pd.read_csv(\"C:\\\\Users\\\\saisu\\\\OneDrive\\\\Documents\\\\penguins_size.csv\")\n",
    "df.head()"
   ]
  },
  {
   "cell_type": "code",
   "execution_count": 3,
   "id": "a2ce5a61",
   "metadata": {},
   "outputs": [
    {
     "name": "stdout",
     "output_type": "stream",
     "text": [
      "<class 'pandas.core.frame.DataFrame'>\n",
      "RangeIndex: 344 entries, 0 to 343\n",
      "Data columns (total 7 columns):\n",
      " #   Column             Non-Null Count  Dtype  \n",
      "---  ------             --------------  -----  \n",
      " 0   species            344 non-null    object \n",
      " 1   island             344 non-null    object \n",
      " 2   culmen_length_mm   342 non-null    float64\n",
      " 3   culmen_depth_mm    342 non-null    float64\n",
      " 4   flipper_length_mm  342 non-null    float64\n",
      " 5   body_mass_g        342 non-null    float64\n",
      " 6   sex                334 non-null    object \n",
      "dtypes: float64(4), object(3)\n",
      "memory usage: 18.9+ KB\n"
     ]
    }
   ],
   "source": [
    "df.info()"
   ]
  },
  {
   "cell_type": "markdown",
   "id": "35ac1aea",
   "metadata": {},
   "source": [
    "# step-3: DATA PREPROCESSING"
   ]
  },
  {
   "cell_type": "code",
   "execution_count": 4,
   "id": "fed3f077",
   "metadata": {},
   "outputs": [
    {
     "data": {
      "text/plain": [
       "species               0\n",
       "island                0\n",
       "culmen_length_mm      2\n",
       "culmen_depth_mm       2\n",
       "flipper_length_mm     2\n",
       "body_mass_g           2\n",
       "sex                  10\n",
       "dtype: int64"
      ]
     },
     "execution_count": 4,
     "metadata": {},
     "output_type": "execute_result"
    }
   ],
   "source": [
    "df.isnull().sum()"
   ]
  },
  {
   "cell_type": "code",
   "execution_count": 5,
   "id": "e8f8a42c",
   "metadata": {},
   "outputs": [],
   "source": [
    "df[\"sex\"].replace(\".\",\"MALE\",inplace = True)"
   ]
  },
  {
   "cell_type": "code",
   "execution_count": 9,
   "id": "6fadd89c",
   "metadata": {},
   "outputs": [],
   "source": [
    "df[\"culmen_length_mm\"].fillna(df[\"culmen_length_mm\"].mean(), inplace=True)\n",
    "df[\"culmen_depth_mm\"].fillna(df[\"culmen_depth_mm\"].mean(), inplace=True)\n",
    "df[\"flipper_length_mm\"].fillna(df[\"flipper_length_mm\"].mean(), inplace=True)\n",
    "df[\"body_mass_g\"].fillna(df[\"body_mass_g\"].mean(), inplace=True)\n",
    "df[\"sex\"].fillna(df[\"sex\"].mode()[0] ,inplace=True)"
   ]
  },
  {
   "cell_type": "markdown",
   "id": "a299cf7a",
   "metadata": {},
   "source": [
    "**X&y**"
   ]
  },
  {
   "cell_type": "code",
   "execution_count": 10,
   "id": "803dce44",
   "metadata": {},
   "outputs": [],
   "source": [
    "X = pd.get_dummies(df.drop('species',axis=1),drop_first=True)\n",
    "y = df['species']"
   ]
  },
  {
   "cell_type": "markdown",
   "id": "39ac83e8",
   "metadata": {},
   "source": [
    "**train test split**"
   ]
  },
  {
   "cell_type": "code",
   "execution_count": 11,
   "id": "2eeff1bf",
   "metadata": {},
   "outputs": [],
   "source": [
    "from sklearn.model_selection import train_test_split\n",
    "X_train,X_test,y_train,y_test = train_test_split(X,y,test_size=0.2,random_state=6)"
   ]
  },
  {
   "cell_type": "markdown",
   "id": "4dd89820",
   "metadata": {},
   "source": [
    "# STEP-4 : MODELLING & EVALUATION"
   ]
  },
  {
   "cell_type": "code",
   "execution_count": 1,
   "id": "c49e6a71",
   "metadata": {},
   "outputs": [
    {
     "ename": "NameError",
     "evalue": "name 'X_train' is not defined",
     "output_type": "error",
     "traceback": [
      "\u001b[1;31m---------------------------------------------------------------------------\u001b[0m",
      "\u001b[1;31mNameError\u001b[0m                                 Traceback (most recent call last)",
      "Cell \u001b[1;32mIn[1], line 4\u001b[0m\n\u001b[0;32m      2\u001b[0m \u001b[38;5;28;01mfrom\u001b[39;00m \u001b[38;5;21;01msklearn\u001b[39;00m\u001b[38;5;21;01m.\u001b[39;00m\u001b[38;5;21;01mensemble\u001b[39;00m \u001b[38;5;28;01mimport\u001b[39;00m RandomForestClassifier\n\u001b[0;32m      3\u001b[0m model \u001b[38;5;241m=\u001b[39m RandomForestClassifier(random_state\u001b[38;5;241m=\u001b[39m\u001b[38;5;241m6\u001b[39m)\n\u001b[1;32m----> 4\u001b[0m model\u001b[38;5;241m.\u001b[39mfit(X_train,y_train)\n\u001b[0;32m      6\u001b[0m \u001b[38;5;66;03m#prediction\u001b[39;00m\n\u001b[0;32m      7\u001b[0m ypred_train \u001b[38;5;241m=\u001b[39m model\u001b[38;5;241m.\u001b[39mpredict(X_train)\n",
      "\u001b[1;31mNameError\u001b[0m: name 'X_train' is not defined"
     ]
    }
   ],
   "source": [
    "#random forest classifer with default parameters\n",
    "from sklearn.ensemble import RandomForestClassifier\n",
    "model = RandomForestClassifier(random_state=6)\n",
    "model.fit(X_train,y_train)\n",
    "\n",
    "#prediction\n",
    "ypred_train = model.predict(X_train)\n",
    "ypred_test = model.predict(X_test)\n",
    "\n",
    "#evaluation\n",
    "from sklearn.metrics import accuracy_score\n",
    "print(\"Train accuracy:\",accuracy_score(ypred_train,y_train))\n",
    "print(\"Test accuracy:\",accuracy_score(ypred_test,y_test))\n",
    "\n",
    "from sklearn.model_selection import cross_val_score\n",
    "print(\"cross_val_score:\",cross_val_score(model,X,y,cv=5).mean())"
   ]
  },
  {
   "cell_type": "markdown",
   "id": "9b5d0281",
   "metadata": {},
   "source": [
    "**hyperparameter tuning**"
   ]
  },
  {
   "cell_type": "code",
   "execution_count": 14,
   "id": "b44a1651",
   "metadata": {},
   "outputs": [
    {
     "data": {
      "text/plain": [
       "{'n_estimators': 12}"
      ]
     },
     "execution_count": 14,
     "metadata": {},
     "output_type": "execute_result"
    }
   ],
   "source": [
    "from sklearn.model_selection import GridSearchCV\n",
    "\n",
    "#model\n",
    "estimator = RandomForestClassifier(random_state=0)\n",
    "\n",
    "#parameters (which you want to tune and identify the best)\n",
    "\n",
    "param_grid = {'n_estimators':list(range(1,100))}\n",
    "\n",
    "grid = GridSearchCV(estimator,param_grid, scoring=\"accuracy\",cv=5)\n",
    "\n",
    "grid.fit(X_train,y_train)\n",
    "\n",
    "grid.best_params_"
   ]
  },
  {
   "cell_type": "markdown",
   "id": "f8013957",
   "metadata": {},
   "source": [
    "**importance of each feature given by this model**"
   ]
  },
  {
   "cell_type": "code",
   "execution_count": 15,
   "id": "cc635a83",
   "metadata": {},
   "outputs": [
    {
     "data": {
      "text/plain": [
       "array([0.35706512, 0.16032298, 0.22653459, 0.0667992 , 0.15122477,\n",
       "       0.02600539, 0.01204796])"
      ]
     },
     "execution_count": 15,
     "metadata": {},
     "output_type": "execute_result"
    }
   ],
   "source": [
    "grid.best_estimator_.feature_importances_"
   ]
  },
  {
   "cell_type": "code",
   "execution_count": 22,
   "id": "882c80d9",
   "metadata": {},
   "outputs": [],
   "source": [
    "feats = pd.DataFrame(data=grid.best_estimator_.feature_importances_,\n",
    "                    index=X.columns,\n",
    "                    columns=['Feature Importance'])\n",
    "\n",
    "feats_imp = feats[feats['Feature Importance']>0]\n",
    "important_features_list = feats_imp.index.to_list()"
   ]
  },
  {
   "cell_type": "markdown",
   "id": "952ede8e",
   "metadata": {},
   "source": [
    "# FINAL RANDOM FOREST MODEL"
   ]
  },
  {
   "cell_type": "markdown",
   "id": "03318326",
   "metadata": {},
   "source": [
    "**with best hyper parameters & with important features**"
   ]
  },
  {
   "cell_type": "code",
   "execution_count": 24,
   "id": "b9e80e2a",
   "metadata": {},
   "outputs": [
    {
     "name": "stdout",
     "output_type": "stream",
     "text": [
      "Train accuracy: 0.9963636363636363\n",
      "Test accuracy: 1.0\n",
      "cross validation score: 0.9854646206308612\n"
     ]
    }
   ],
   "source": [
    "#input with important features\n",
    "X_imp = X[important_features_list]\n",
    "\n",
    "#train-test-split\n",
    "X_train,X_test,y_train,y_test = train_test_split(X,y,test_size=0.2,random_state=6)\n",
    "\n",
    "#model with best hyperparameters\n",
    "final_rf_model = RandomForestClassifier(n_estimators=12,random_state=0)\n",
    "final_rf_model.fit(X_train,y_train)\n",
    "\n",
    "ypred_train = final_rf_model.predict(X_train)\n",
    "ypred_test = final_rf_model.predict(X_test)\n",
    "\n",
    "#evaluation\n",
    "print(\"Train accuracy:\",accuracy_score(ypred_train,y_train))\n",
    "print(\"Test accuracy:\",accuracy_score(ypred_test,y_test))\n",
    "print(\"cross validation score:\",cross_val_score(final_rf_model,X_imp,y,cv=5).mean())"
   ]
  },
  {
   "cell_type": "code",
   "execution_count": null,
   "id": "044c688e",
   "metadata": {},
   "outputs": [],
   "source": []
  }
 ],
 "metadata": {
  "kernelspec": {
   "display_name": "Python 3 (ipykernel)",
   "language": "python",
   "name": "python3"
  },
  "language_info": {
   "codemirror_mode": {
    "name": "ipython",
    "version": 3
   },
   "file_extension": ".py",
   "mimetype": "text/x-python",
   "name": "python",
   "nbconvert_exporter": "python",
   "pygments_lexer": "ipython3",
   "version": "3.11.4"
  }
 },
 "nbformat": 4,
 "nbformat_minor": 5
}
