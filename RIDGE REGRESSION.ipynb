{
 "cells": [
  {
   "cell_type": "markdown",
   "id": "61e9050b",
   "metadata": {},
   "source": [
    "# RIDGE REGRESSION"
   ]
  },
  {
   "cell_type": "markdown",
   "id": "8af3351c",
   "metadata": {},
   "source": [
    "# step-1: BUSINESS PROBLEM UNDERSTANDING"
   ]
  },
  {
   "cell_type": "code",
   "execution_count": 1,
   "id": "4f0713e8",
   "metadata": {},
   "outputs": [],
   "source": [
    "import numpy as np \n",
    "import pandas as pd \n",
    "import matplotlib.pyplot as plt\n",
    "import seaborn as sns\n",
    "\n",
    "import warnings\n",
    "warnings.simplefilter(\"ignore\")"
   ]
  },
  {
   "cell_type": "code",
   "execution_count": 3,
   "id": "4c5cdfa1",
   "metadata": {},
   "outputs": [],
   "source": [
    "from sklearn.model_selection import train_test_split\n",
    "\n",
    "from sklearn.linear_model import Ridge\n",
    "from sklearn.metrics import r2_score\n",
    "from sklearn.model_selection import cross_val_score\n",
    "\n",
    "from sklearn.model_selection import GridSearchCV"
   ]
  },
  {
   "cell_type": "markdown",
   "id": "689c78e6",
   "metadata": {},
   "source": [
    "# step-2: DATA UNDERSTANDING"
   ]
  },
  {
   "cell_type": "code",
   "execution_count": 4,
   "id": "93162076",
   "metadata": {},
   "outputs": [
    {
     "data": {
      "text/html": [
       "<div>\n",
       "<style scoped>\n",
       "    .dataframe tbody tr th:only-of-type {\n",
       "        vertical-align: middle;\n",
       "    }\n",
       "\n",
       "    .dataframe tbody tr th {\n",
       "        vertical-align: top;\n",
       "    }\n",
       "\n",
       "    .dataframe thead th {\n",
       "        text-align: right;\n",
       "    }\n",
       "</style>\n",
       "<table border=\"1\" class=\"dataframe\">\n",
       "  <thead>\n",
       "    <tr style=\"text-align: right;\">\n",
       "      <th></th>\n",
       "      <th>age</th>\n",
       "      <th>sex</th>\n",
       "      <th>bmi</th>\n",
       "      <th>children</th>\n",
       "      <th>smoker</th>\n",
       "      <th>region</th>\n",
       "      <th>expenses</th>\n",
       "    </tr>\n",
       "  </thead>\n",
       "  <tbody>\n",
       "    <tr>\n",
       "      <th>0</th>\n",
       "      <td>19</td>\n",
       "      <td>female</td>\n",
       "      <td>27.9</td>\n",
       "      <td>0</td>\n",
       "      <td>yes</td>\n",
       "      <td>southwest</td>\n",
       "      <td>16884.92</td>\n",
       "    </tr>\n",
       "    <tr>\n",
       "      <th>1</th>\n",
       "      <td>18</td>\n",
       "      <td>male</td>\n",
       "      <td>33.8</td>\n",
       "      <td>1</td>\n",
       "      <td>no</td>\n",
       "      <td>southeast</td>\n",
       "      <td>1725.55</td>\n",
       "    </tr>\n",
       "    <tr>\n",
       "      <th>2</th>\n",
       "      <td>28</td>\n",
       "      <td>male</td>\n",
       "      <td>33.0</td>\n",
       "      <td>3</td>\n",
       "      <td>no</td>\n",
       "      <td>southeast</td>\n",
       "      <td>4449.46</td>\n",
       "    </tr>\n",
       "    <tr>\n",
       "      <th>3</th>\n",
       "      <td>33</td>\n",
       "      <td>male</td>\n",
       "      <td>22.7</td>\n",
       "      <td>0</td>\n",
       "      <td>no</td>\n",
       "      <td>northwest</td>\n",
       "      <td>21984.47</td>\n",
       "    </tr>\n",
       "    <tr>\n",
       "      <th>4</th>\n",
       "      <td>32</td>\n",
       "      <td>male</td>\n",
       "      <td>28.9</td>\n",
       "      <td>0</td>\n",
       "      <td>no</td>\n",
       "      <td>northwest</td>\n",
       "      <td>3866.86</td>\n",
       "    </tr>\n",
       "    <tr>\n",
       "      <th>...</th>\n",
       "      <td>...</td>\n",
       "      <td>...</td>\n",
       "      <td>...</td>\n",
       "      <td>...</td>\n",
       "      <td>...</td>\n",
       "      <td>...</td>\n",
       "      <td>...</td>\n",
       "    </tr>\n",
       "    <tr>\n",
       "      <th>1333</th>\n",
       "      <td>50</td>\n",
       "      <td>male</td>\n",
       "      <td>31.0</td>\n",
       "      <td>3</td>\n",
       "      <td>no</td>\n",
       "      <td>northwest</td>\n",
       "      <td>10600.55</td>\n",
       "    </tr>\n",
       "    <tr>\n",
       "      <th>1334</th>\n",
       "      <td>18</td>\n",
       "      <td>female</td>\n",
       "      <td>31.9</td>\n",
       "      <td>0</td>\n",
       "      <td>no</td>\n",
       "      <td>northeast</td>\n",
       "      <td>2205.98</td>\n",
       "    </tr>\n",
       "    <tr>\n",
       "      <th>1335</th>\n",
       "      <td>18</td>\n",
       "      <td>female</td>\n",
       "      <td>36.9</td>\n",
       "      <td>0</td>\n",
       "      <td>no</td>\n",
       "      <td>southeast</td>\n",
       "      <td>1629.83</td>\n",
       "    </tr>\n",
       "    <tr>\n",
       "      <th>1336</th>\n",
       "      <td>21</td>\n",
       "      <td>female</td>\n",
       "      <td>25.8</td>\n",
       "      <td>0</td>\n",
       "      <td>no</td>\n",
       "      <td>southwest</td>\n",
       "      <td>2007.95</td>\n",
       "    </tr>\n",
       "    <tr>\n",
       "      <th>1337</th>\n",
       "      <td>61</td>\n",
       "      <td>female</td>\n",
       "      <td>29.1</td>\n",
       "      <td>0</td>\n",
       "      <td>yes</td>\n",
       "      <td>northwest</td>\n",
       "      <td>29141.36</td>\n",
       "    </tr>\n",
       "  </tbody>\n",
       "</table>\n",
       "<p>1338 rows × 7 columns</p>\n",
       "</div>"
      ],
      "text/plain": [
       "      age     sex   bmi  children smoker     region  expenses\n",
       "0      19  female  27.9         0    yes  southwest  16884.92\n",
       "1      18    male  33.8         1     no  southeast   1725.55\n",
       "2      28    male  33.0         3     no  southeast   4449.46\n",
       "3      33    male  22.7         0     no  northwest  21984.47\n",
       "4      32    male  28.9         0     no  northwest   3866.86\n",
       "...   ...     ...   ...       ...    ...        ...       ...\n",
       "1333   50    male  31.0         3     no  northwest  10600.55\n",
       "1334   18  female  31.9         0     no  northeast   2205.98\n",
       "1335   18  female  36.9         0     no  southeast   1629.83\n",
       "1336   21  female  25.8         0     no  southwest   2007.95\n",
       "1337   61  female  29.1         0    yes  northwest  29141.36\n",
       "\n",
       "[1338 rows x 7 columns]"
      ]
     },
     "execution_count": 4,
     "metadata": {},
     "output_type": "execute_result"
    }
   ],
   "source": [
    "df = pd.read_excel(\"C:\\\\Users\\\\saisu\\\\OneDrive\\\\Documents\\\\insurance.xlsx\")\n",
    "df"
   ]
  },
  {
   "cell_type": "markdown",
   "id": "8532451c",
   "metadata": {},
   "source": [
    "**DATASET UNDERSTANDING**"
   ]
  },
  {
   "cell_type": "code",
   "execution_count": 5,
   "id": "4475fe01",
   "metadata": {},
   "outputs": [
    {
     "data": {
      "text/plain": [
       "(1338, 7)"
      ]
     },
     "execution_count": 5,
     "metadata": {},
     "output_type": "execute_result"
    }
   ],
   "source": [
    "df.shape\n"
   ]
  },
  {
   "cell_type": "code",
   "execution_count": 6,
   "id": "57789c11",
   "metadata": {},
   "outputs": [
    {
     "data": {
      "text/plain": [
       "Index(['age', 'sex', 'bmi', 'children', 'smoker', 'region', 'expenses'], dtype='object')"
      ]
     },
     "execution_count": 6,
     "metadata": {},
     "output_type": "execute_result"
    }
   ],
   "source": [
    "df.columns"
   ]
  },
  {
   "cell_type": "markdown",
   "id": "f1b0980f",
   "metadata": {},
   "source": [
    "# step-3: DATA PREPROCESSING"
   ]
  },
  {
   "cell_type": "code",
   "execution_count": 11,
   "id": "f3bca04e",
   "metadata": {},
   "outputs": [
    {
     "data": {
      "text/plain": [
       "0       False\n",
       "1       False\n",
       "2       False\n",
       "3       False\n",
       "4       False\n",
       "        ...  \n",
       "1333    False\n",
       "1334    False\n",
       "1335    False\n",
       "1336    False\n",
       "1337    False\n",
       "Length: 1338, dtype: bool"
      ]
     },
     "execution_count": 11,
     "metadata": {},
     "output_type": "execute_result"
    }
   ],
   "source": [
    "df.duplicated()"
   ]
  },
  {
   "cell_type": "code",
   "execution_count": 12,
   "id": "c26724e9",
   "metadata": {},
   "outputs": [],
   "source": [
    "df.drop_duplicates(inplace=True)\n"
   ]
  },
  {
   "cell_type": "code",
   "execution_count": 13,
   "id": "64cf056d",
   "metadata": {},
   "outputs": [],
   "source": [
    "#drop the region column\n",
    "df.drop(\"region\",axis=1,inplace=True)"
   ]
  },
  {
   "cell_type": "code",
   "execution_count": 15,
   "id": "77277ca7",
   "metadata": {},
   "outputs": [],
   "source": [
    "#encoding the se column \n",
    "df[\"sex\"].replace({\"female\":0,\"male\":1},inplace=True)\n",
    "\n",
    "#encoding smoker column\n",
    "\n",
    "df[\"smoker\"].replace({\"no\":0,\"yes\":1},inplace=True)"
   ]
  },
  {
   "cell_type": "code",
   "execution_count": 16,
   "id": "c523dead",
   "metadata": {},
   "outputs": [],
   "source": [
    "X = df.drop(\"expenses\",axis=1)\n",
    "y = df[\"expenses\"]"
   ]
  },
  {
   "cell_type": "code",
   "execution_count": 21,
   "id": "747a421a",
   "metadata": {},
   "outputs": [],
   "source": [
    "X_train,X_test,y_train,y_test = train_test_split(X,y,test_size=0.2,random_state=9)"
   ]
  },
  {
   "cell_type": "markdown",
   "id": "c1b0db6b",
   "metadata": {},
   "source": [
    "# step-4:MODELLING"
   ]
  },
  {
   "cell_type": "markdown",
   "id": "1c3259d1",
   "metadata": {},
   "source": [
    "**applying hyperparameter tuning for ridge regression**"
   ]
  },
  {
   "cell_type": "code",
   "execution_count": 22,
   "id": "90ab3d3c",
   "metadata": {},
   "outputs": [
    {
     "data": {
      "text/plain": [
       "{'alpha': 1}"
      ]
     },
     "execution_count": 22,
     "metadata": {},
     "output_type": "execute_result"
    }
   ],
   "source": [
    "#model\n",
    "\n",
    "estimator = Ridge()\n",
    "\n",
    "#parameters & values\n",
    "param_grid = {\"alpha\":list(range(1,100))}\n",
    " \n",
    "#identifying the best value of the parameter within given values for the given data\n",
    "\n",
    "model_hp = GridSearchCV(estimator,param_grid,cv=5,scoring=\"r2\")\n",
    "\n",
    "model_hp.fit(X_train,y_train)\n",
    "model_hp.best_params_\n"
   ]
  },
  {
   "cell_type": "markdown",
   "id": "211e8f0e",
   "metadata": {},
   "source": [
    "**modelling Ridge regression using best hyperparameters**\n"
   ]
  },
  {
   "cell_type": "code",
   "execution_count": 23,
   "id": "0e4647b3",
   "metadata": {},
   "outputs": [
    {
     "name": "stdout",
     "output_type": "stream",
     "text": [
      "Intercept: -12131.383174500303\n",
      "coefficients: [  264.4786592   -112.37962155   318.56350557   413.12069122\n",
      " 23853.85951773]\n"
     ]
    }
   ],
   "source": [
    "#modelling \n",
    "\n",
    "ridge_best = Ridge(alpha=1)\n",
    "ridge_best.fit(X_train,y_train)\n",
    "\n",
    "print(\"Intercept:\",ridge_best.intercept_)\n",
    "print(\"coefficients:\",ridge_best.coef_)"
   ]
  },
  {
   "cell_type": "markdown",
   "id": "365dbebf",
   "metadata": {},
   "source": [
    "# step-5:EVALUATION"
   ]
  },
  {
   "cell_type": "markdown",
   "id": "f5f12c17",
   "metadata": {},
   "source": [
    "**evaluation on train data**"
   ]
  },
  {
   "cell_type": "code",
   "execution_count": 24,
   "id": "85ef6900",
   "metadata": {},
   "outputs": [
    {
     "name": "stdout",
     "output_type": "stream",
     "text": [
      "Train R2: 0.7593639632162803\n",
      "CV score: 0.753470595394454\n"
     ]
    }
   ],
   "source": [
    "ypred_train = ridge_best.predict(X_train)\n",
    "print(\"Train R2:\",r2_score(y_train,ypred_train))\n",
    "print(\"CV score:\",cross_val_score(ridge_best,X_train,y_train,cv=5).mean())"
   ]
  },
  {
   "cell_type": "markdown",
   "id": "2c94d8dd",
   "metadata": {},
   "source": [
    "**evaluation on test data**"
   ]
  },
  {
   "cell_type": "code",
   "execution_count": 25,
   "id": "4e74de3a",
   "metadata": {},
   "outputs": [
    {
     "name": "stdout",
     "output_type": "stream",
     "text": [
      "Test R2: 0.7008629672692219\n"
     ]
    }
   ],
   "source": [
    "ypred_test = ridge_best.predict(X_test)\n",
    "print(\"Test R2:\",r2_score(y_test,ypred_test))"
   ]
  },
  {
   "cell_type": "markdown",
   "id": "084b1dc7",
   "metadata": {},
   "source": [
    "# PREDICTION ON UNKNOWN DATA"
   ]
  },
  {
   "cell_type": "markdown",
   "id": "729849fe",
   "metadata": {},
   "source": [
    "**Data**"
   ]
  },
  {
   "cell_type": "code",
   "execution_count": 26,
   "id": "ece69e38",
   "metadata": {},
   "outputs": [],
   "source": [
    "input_data = {\"age\":31,\n",
    "              \"sex\" :\"female\",\n",
    "              \"bmi\":25.74,\n",
    "              \"children\":0,\n",
    "              \"smoker\":\"no\",\n",
    "              \"region\":\"northeast\"}"
   ]
  },
  {
   "cell_type": "markdown",
   "id": "3a6533d9",
   "metadata": {},
   "source": [
    "**step-1: prepeocessing the data**"
   ]
  },
  {
   "cell_type": "code",
   "execution_count": 28,
   "id": "6636cbc4",
   "metadata": {},
   "outputs": [
    {
     "data": {
      "text/html": [
       "<div>\n",
       "<style scoped>\n",
       "    .dataframe tbody tr th:only-of-type {\n",
       "        vertical-align: middle;\n",
       "    }\n",
       "\n",
       "    .dataframe tbody tr th {\n",
       "        vertical-align: top;\n",
       "    }\n",
       "\n",
       "    .dataframe thead th {\n",
       "        text-align: right;\n",
       "    }\n",
       "</style>\n",
       "<table border=\"1\" class=\"dataframe\">\n",
       "  <thead>\n",
       "    <tr style=\"text-align: right;\">\n",
       "      <th></th>\n",
       "      <th>age</th>\n",
       "      <th>sex</th>\n",
       "      <th>bmi</th>\n",
       "      <th>children</th>\n",
       "      <th>smoker</th>\n",
       "    </tr>\n",
       "  </thead>\n",
       "  <tbody>\n",
       "    <tr>\n",
       "      <th>0</th>\n",
       "      <td>31</td>\n",
       "      <td>0</td>\n",
       "      <td>25.74</td>\n",
       "      <td>0</td>\n",
       "      <td>0</td>\n",
       "    </tr>\n",
       "  </tbody>\n",
       "</table>\n",
       "</div>"
      ],
      "text/plain": [
       "   age  sex    bmi  children  smoker\n",
       "0   31    0  25.74         0       0"
      ]
     },
     "execution_count": 28,
     "metadata": {},
     "output_type": "execute_result"
    }
   ],
   "source": [
    "df_test = pd.DataFrame(input_data,index=[0])\n",
    "\n",
    "df_test.drop(\"region\",axis=1,inplace=True)\n",
    "df_test[\"sex\"].replace({\"female\":0,\"male\":1},inplace=True)\n",
    "df_test[\"smoker\"].replace({\"no\":0,\"yes\":1},inplace=True)\n",
    "\n",
    "df_test"
   ]
  },
  {
   "cell_type": "markdown",
   "id": "7435596d",
   "metadata": {},
   "source": [
    "**step-2: predict**"
   ]
  },
  {
   "cell_type": "code",
   "execution_count": 29,
   "id": "1e08d0c6",
   "metadata": {},
   "outputs": [
    {
     "data": {
      "text/plain": [
       "array([4267.27989412])"
      ]
     },
     "execution_count": 29,
     "metadata": {},
     "output_type": "execute_result"
    }
   ],
   "source": [
    "ridge_best.predict(df_test)"
   ]
  },
  {
   "cell_type": "code",
   "execution_count": null,
   "id": "f90309f3",
   "metadata": {},
   "outputs": [],
   "source": []
  }
 ],
 "metadata": {
  "kernelspec": {
   "display_name": "Python 3 (ipykernel)",
   "language": "python",
   "name": "python3"
  },
  "language_info": {
   "codemirror_mode": {
    "name": "ipython",
    "version": 3
   },
   "file_extension": ".py",
   "mimetype": "text/x-python",
   "name": "python",
   "nbconvert_exporter": "python",
   "pygments_lexer": "ipython3",
   "version": "3.11.4"
  }
 },
 "nbformat": 4,
 "nbformat_minor": 5
}
